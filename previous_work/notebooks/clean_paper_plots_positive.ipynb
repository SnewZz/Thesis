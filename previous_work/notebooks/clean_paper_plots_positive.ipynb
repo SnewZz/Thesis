{
 "cells": [
  {
   "cell_type": "code",
   "execution_count": 1,
   "id": "unnecessary-gospel",
   "metadata": {},
   "outputs": [],
   "source": [
    "# Import necessary libraries\n",
    "import os, sys\n",
    "import numpy as np\n",
    "import pandas as pd\n",
    "import itertools\n",
    "from collections import defaultdict\n",
    "import seaborn as sns\n",
    "from matplotlib import pyplot as plt\n",
    "%matplotlib inline"
   ]
  },
  {
   "cell_type": "markdown",
   "id": "particular-spider",
   "metadata": {},
   "source": [
    "# Inits"
   ]
  },
  {
   "cell_type": "code",
   "execution_count": 2,
   "id": "innovative-irish",
   "metadata": {},
   "outputs": [],
   "source": [
    "# Get the current working directory\n",
    "base_dir = os.getcwd()\n",
    "plots_folder = 'plots'\n",
    "\n",
    "# Load functions from other notebooks\n",
    "helpers_file = os.path.join(base_dir, 'helpers.ipynb')\n",
    "%run $helpers_file\n",
    "\n",
    "current_module = sys.modules[__name__]\n",
    "\n",
    "class Strategies:\n",
    "    \"\"\"\n",
    "    A class representing different strategies for counterfactual explanation generation.\n",
    "\n",
    "    Attributes:\n",
    "    - stypes (list): List of strategy types, including 'random', 'brute_force', 'bfs_yloss', 'bidirectional', and 'combo'.\n",
    "    \"\"\"\n",
    "    stypes = [\n",
    "        'random',\n",
    "        'brute_force',\n",
    "        'bfs_yloss',\n",
    "        'bidirectional',\n",
    "        'combo',\n",
    "    ]"
   ]
  },
  {
   "cell_type": "markdown",
   "id": "adolescent-democracy",
   "metadata": {},
   "source": [
    "# Movielens 10M"
   ]
  },
  {
   "cell_type": "markdown",
   "id": "diverse-economics",
   "metadata": {},
   "source": [
    "## Load data"
   ]
  },
  {
   "cell_type": "code",
   "execution_count": 3,
   "id": "painted-montgomery",
   "metadata": {},
   "outputs": [
    {
     "data": {
      "application/vnd.jupyter.widget-view+json": {
       "model_id": "cf8d9de76b43412894d445bf15b3edbd",
       "version_major": 2,
       "version_minor": 0
      },
      "text/plain": [
       "  0%|          | 0/6041 [00:00<?, ?it/s]"
      ]
     },
     "metadata": {},
     "output_type": "display_data"
    },
    {
     "name": "stderr",
     "output_type": "stream",
     "text": [
      "target position loop:   0%|          | 0/4 [00:00<?, ?it/s]"
     ]
    },
    {
     "name": "stdout",
     "output_type": "stream",
     "text": [
      "The backend used is: Random\n"
     ]
    },
    {
     "data": {
      "application/vnd.jupyter.widget-view+json": {
       "model_id": "e6b959900dd641e4921ccf822464f9b0",
       "version_major": 2,
       "version_minor": 0
      },
      "text/plain": [
       "users loop:   0%|          | 0/10 [00:00<?, ?it/s]"
      ]
     },
     "metadata": {},
     "output_type": "display_data"
    },
    {
     "name": "stderr",
     "output_type": "stream",
     "text": [
      "target position loop: 20it [00:17,  1.13it/s]              "
     ]
    },
    {
     "data": {
      "application/vnd.jupyter.widget-view+json": {
       "model_id": "49a81738fd02436eb049689ccbb4bc94",
       "version_major": 2,
       "version_minor": 0
      },
      "text/plain": [
       "users loop:   0%|          | 0/10 [00:00<?, ?it/s]"
      ]
     },
     "metadata": {},
     "output_type": "display_data"
    },
    {
     "name": "stderr",
     "output_type": "stream",
     "text": [
      "target position loop: 30it [00:31,  1.11s/it]"
     ]
    },
    {
     "data": {
      "application/vnd.jupyter.widget-view+json": {
       "model_id": "d492bc1646274180b3c566ac5fe9cabe",
       "version_major": 2,
       "version_minor": 0
      },
      "text/plain": [
       "users loop:   0%|          | 0/10 [00:00<?, ?it/s]"
      ]
     },
     "metadata": {},
     "output_type": "display_data"
    },
    {
     "name": "stderr",
     "output_type": "stream",
     "text": [
      "target position loop: 40it [00:46,  1.23s/it]"
     ]
    },
    {
     "data": {
      "application/vnd.jupyter.widget-view+json": {
       "model_id": "912f6a470c5f4d6496418138dfbd2523",
       "version_major": 2,
       "version_minor": 0
      },
      "text/plain": [
       "users loop:   0%|          | 0/10 [00:00<?, ?it/s]"
      ]
     },
     "metadata": {},
     "output_type": "display_data"
    },
    {
     "name": "stderr",
     "output_type": "stream",
     "text": [
      "target position loop: 40it [01:00,  1.50s/it]\n",
      "target position loop:   0%|          | 0/4 [00:00<?, ?it/s]"
     ]
    },
    {
     "name": "stdout",
     "output_type": "stream",
     "text": [
      "Stored 'random_cfs_positive' (list)\n",
      "The backend used is: BFS\n"
     ]
    },
    {
     "data": {
      "application/vnd.jupyter.widget-view+json": {
       "model_id": "f46a12b52d0f49b3a009dcde2c497468",
       "version_major": 2,
       "version_minor": 0
      },
      "text/plain": [
       "users loop:   0%|          | 0/10 [00:00<?, ?it/s]"
      ]
     },
     "metadata": {},
     "output_type": "display_data"
    },
    {
     "name": "stderr",
     "output_type": "stream",
     "text": [
      "target position loop: 20it [00:01, 13.10it/s]              "
     ]
    },
    {
     "data": {
      "application/vnd.jupyter.widget-view+json": {
       "model_id": "8e70d5b2040f43ba83cb8a048a9f28da",
       "version_major": 2,
       "version_minor": 0
      },
      "text/plain": [
       "users loop:   0%|          | 0/10 [00:00<?, ?it/s]"
      ]
     },
     "metadata": {},
     "output_type": "display_data"
    },
    {
     "name": "stderr",
     "output_type": "stream",
     "text": [
      "target position loop: 30it [00:09,  2.69it/s]"
     ]
    },
    {
     "data": {
      "application/vnd.jupyter.widget-view+json": {
       "model_id": "489c05b7832e47f99c14a22aa4356e54",
       "version_major": 2,
       "version_minor": 0
      },
      "text/plain": [
       "users loop:   0%|          | 0/10 [00:00<?, ?it/s]"
      ]
     },
     "metadata": {},
     "output_type": "display_data"
    },
    {
     "name": "stderr",
     "output_type": "stream",
     "text": [
      "target position loop: 40it [00:10,  3.80it/s]"
     ]
    },
    {
     "data": {
      "application/vnd.jupyter.widget-view+json": {
       "model_id": "c0f4b9f0780e46a2b5f46398b9579243",
       "version_major": 2,
       "version_minor": 0
      },
      "text/plain": [
       "users loop:   0%|          | 0/10 [00:00<?, ?it/s]"
      ]
     },
     "metadata": {},
     "output_type": "display_data"
    },
    {
     "name": "stderr",
     "output_type": "stream",
     "text": [
      "target position loop: 40it [00:10,  3.78it/s]\n",
      "target position loop:   0%|          | 0/4 [00:00<?, ?it/s]"
     ]
    },
    {
     "name": "stdout",
     "output_type": "stream",
     "text": [
      "The backend used is: BFS\n"
     ]
    },
    {
     "data": {
      "application/vnd.jupyter.widget-view+json": {
       "model_id": "f290bad4c9f346828f49df8e5054ba51",
       "version_major": 2,
       "version_minor": 0
      },
      "text/plain": [
       "users loop:   0%|          | 0/10 [00:00<?, ?it/s]"
      ]
     },
     "metadata": {},
     "output_type": "display_data"
    },
    {
     "name": "stderr",
     "output_type": "stream",
     "text": [
      "target position loop: 20it [00:01, 12.60it/s]              "
     ]
    },
    {
     "data": {
      "application/vnd.jupyter.widget-view+json": {
       "model_id": "fafe9724947f49128fb33ab5caf4129f",
       "version_major": 2,
       "version_minor": 0
      },
      "text/plain": [
       "users loop:   0%|          | 0/10 [00:00<?, ?it/s]"
      ]
     },
     "metadata": {},
     "output_type": "display_data"
    },
    {
     "name": "stderr",
     "output_type": "stream",
     "text": [
      "target position loop: 30it [00:09,  2.68it/s]"
     ]
    },
    {
     "data": {
      "application/vnd.jupyter.widget-view+json": {
       "model_id": "54623971cc89478cbb47a791770ef09c",
       "version_major": 2,
       "version_minor": 0
      },
      "text/plain": [
       "users loop:   0%|          | 0/10 [00:00<?, ?it/s]"
      ]
     },
     "metadata": {},
     "output_type": "display_data"
    },
    {
     "name": "stderr",
     "output_type": "stream",
     "text": [
      "target position loop: 40it [00:10,  3.78it/s]"
     ]
    },
    {
     "data": {
      "application/vnd.jupyter.widget-view+json": {
       "model_id": "bccc48b5486d4e60b0458470eacc62a3",
       "version_major": 2,
       "version_minor": 0
      },
      "text/plain": [
       "users loop:   0%|          | 0/10 [00:00<?, ?it/s]"
      ]
     },
     "metadata": {},
     "output_type": "display_data"
    },
    {
     "name": "stderr",
     "output_type": "stream",
     "text": [
      "target position loop: 40it [00:10,  3.74it/s]\n",
      "target position loop:   0%|          | 0/4 [00:00<?, ?it/s]"
     ]
    },
    {
     "name": "stdout",
     "output_type": "stream",
     "text": [
      "Stored 'bfs_yloss_cfs_positive' (list)\n",
      "The backend used is: BiDirectional\n"
     ]
    },
    {
     "data": {
      "application/vnd.jupyter.widget-view+json": {
       "model_id": "b09ea8d58ae343c783aa884badd598b5",
       "version_major": 2,
       "version_minor": 0
      },
      "text/plain": [
       "users loop:   0%|          | 0/10 [00:00<?, ?it/s]"
      ]
     },
     "metadata": {},
     "output_type": "display_data"
    },
    {
     "name": "stderr",
     "output_type": "stream",
     "text": [
      "target position loop: 20it [00:27,  1.38s/it]              "
     ]
    },
    {
     "data": {
      "application/vnd.jupyter.widget-view+json": {
       "model_id": "046b957e1ee240c791a272adadbc4e4b",
       "version_major": 2,
       "version_minor": 0
      },
      "text/plain": [
       "users loop:   0%|          | 0/10 [00:00<?, ?it/s]"
      ]
     },
     "metadata": {},
     "output_type": "display_data"
    },
    {
     "name": "stderr",
     "output_type": "stream",
     "text": [
      "target position loop: 30it [00:52,  1.85s/it]"
     ]
    },
    {
     "data": {
      "application/vnd.jupyter.widget-view+json": {
       "model_id": "046b43d0462a41fcb8d46856e89bf736",
       "version_major": 2,
       "version_minor": 0
      },
      "text/plain": [
       "users loop:   0%|          | 0/10 [00:00<?, ?it/s]"
      ]
     },
     "metadata": {},
     "output_type": "display_data"
    },
    {
     "name": "stderr",
     "output_type": "stream",
     "text": [
      "target position loop: 40it [01:19,  2.18s/it]"
     ]
    },
    {
     "data": {
      "application/vnd.jupyter.widget-view+json": {
       "model_id": "09ea1ad3d0564208aafc8279ada86ec3",
       "version_major": 2,
       "version_minor": 0
      },
      "text/plain": [
       "users loop:   0%|          | 0/10 [00:00<?, ?it/s]"
      ]
     },
     "metadata": {},
     "output_type": "display_data"
    },
    {
     "name": "stderr",
     "output_type": "stream",
     "text": [
      "target position loop: 40it [01:46,  2.65s/it]\n",
      "target position loop:   0%|          | 0/4 [00:00<?, ?it/s]"
     ]
    },
    {
     "name": "stdout",
     "output_type": "stream",
     "text": [
      "The backend used is: BiDirectional\n"
     ]
    },
    {
     "data": {
      "application/vnd.jupyter.widget-view+json": {
       "model_id": "d5392eea28494429b85a7d069f2607a3",
       "version_major": 2,
       "version_minor": 0
      },
      "text/plain": [
       "users loop:   0%|          | 0/10 [00:00<?, ?it/s]"
      ]
     },
     "metadata": {},
     "output_type": "display_data"
    },
    {
     "name": "stderr",
     "output_type": "stream",
     "text": [
      "target position loop: 20it [00:26,  1.32s/it]              "
     ]
    },
    {
     "data": {
      "application/vnd.jupyter.widget-view+json": {
       "model_id": "cf1f3d38cced4872bcd379c2042981ce",
       "version_major": 2,
       "version_minor": 0
      },
      "text/plain": [
       "users loop:   0%|          | 0/10 [00:00<?, ?it/s]"
      ]
     },
     "metadata": {},
     "output_type": "display_data"
    },
    {
     "name": "stderr",
     "output_type": "stream",
     "text": [
      "target position loop: 30it [00:50,  1.78s/it]"
     ]
    },
    {
     "data": {
      "application/vnd.jupyter.widget-view+json": {
       "model_id": "166579f2465f4390a802a66145781f9c",
       "version_major": 2,
       "version_minor": 0
      },
      "text/plain": [
       "users loop:   0%|          | 0/10 [00:00<?, ?it/s]"
      ]
     },
     "metadata": {},
     "output_type": "display_data"
    },
    {
     "name": "stderr",
     "output_type": "stream",
     "text": [
      "target position loop: 40it [01:16,  2.10s/it]"
     ]
    },
    {
     "data": {
      "application/vnd.jupyter.widget-view+json": {
       "model_id": "eab37a383b1048988784cfa98e6fe4b8",
       "version_major": 2,
       "version_minor": 0
      },
      "text/plain": [
       "users loop:   0%|          | 0/10 [00:00<?, ?it/s]"
      ]
     },
     "metadata": {},
     "output_type": "display_data"
    },
    {
     "name": "stderr",
     "output_type": "stream",
     "text": [
      "target position loop: 40it [01:43,  2.59s/it]\n",
      "target position loop:   0%|          | 0/4 [00:00<?, ?it/s]"
     ]
    },
    {
     "name": "stdout",
     "output_type": "stream",
     "text": [
      "The backend used is: BiDirectional\n"
     ]
    },
    {
     "data": {
      "application/vnd.jupyter.widget-view+json": {
       "model_id": "08779e95591c46e29aaac840e65be7e6",
       "version_major": 2,
       "version_minor": 0
      },
      "text/plain": [
       "users loop:   0%|          | 0/10 [00:00<?, ?it/s]"
      ]
     },
     "metadata": {},
     "output_type": "display_data"
    },
    {
     "name": "stderr",
     "output_type": "stream",
     "text": [
      "target position loop: 20it [00:18,  1.06it/s]              "
     ]
    },
    {
     "data": {
      "application/vnd.jupyter.widget-view+json": {
       "model_id": "99acf7ddd7fb4fc3b2543ee4aa70f22a",
       "version_major": 2,
       "version_minor": 0
      },
      "text/plain": [
       "users loop:   0%|          | 0/10 [00:00<?, ?it/s]"
      ]
     },
     "metadata": {},
     "output_type": "display_data"
    },
    {
     "name": "stderr",
     "output_type": "stream",
     "text": [
      "target position loop: 30it [00:36,  1.28s/it]"
     ]
    },
    {
     "data": {
      "application/vnd.jupyter.widget-view+json": {
       "model_id": "108f725c59304585a42bf91d15183afb",
       "version_major": 2,
       "version_minor": 0
      },
      "text/plain": [
       "users loop:   0%|          | 0/10 [00:00<?, ?it/s]"
      ]
     },
     "metadata": {},
     "output_type": "display_data"
    },
    {
     "name": "stderr",
     "output_type": "stream",
     "text": [
      "target position loop: 40it [00:53,  1.45s/it]"
     ]
    },
    {
     "data": {
      "application/vnd.jupyter.widget-view+json": {
       "model_id": "6d206ebc5c4545a09290c5d704d03fcb",
       "version_major": 2,
       "version_minor": 0
      },
      "text/plain": [
       "users loop:   0%|          | 0/10 [00:00<?, ?it/s]"
      ]
     },
     "metadata": {},
     "output_type": "display_data"
    },
    {
     "name": "stderr",
     "output_type": "stream",
     "text": [
      "target position loop: 40it [01:09,  1.75s/it]\n",
      "target position loop:   0%|          | 0/4 [00:00<?, ?it/s]"
     ]
    },
    {
     "name": "stdout",
     "output_type": "stream",
     "text": [
      "Stored 'bidirectional_cfs_positive' (list)\n",
      "The backend used is: BruteForce\n"
     ]
    },
    {
     "data": {
      "application/vnd.jupyter.widget-view+json": {
       "model_id": "20dd4318813f4e3a817b260b733d0e2b",
       "version_major": 2,
       "version_minor": 0
      },
      "text/plain": [
       "users loop:   0%|          | 0/10 [00:00<?, ?it/s]"
      ]
     },
     "metadata": {},
     "output_type": "display_data"
    },
    {
     "name": "stderr",
     "output_type": "stream",
     "text": [
      "target position loop: 20it [01:28,  4.45s/it]              "
     ]
    },
    {
     "data": {
      "application/vnd.jupyter.widget-view+json": {
       "model_id": "ce76fabac5f546d5a1988a7a37ca6bc9",
       "version_major": 2,
       "version_minor": 0
      },
      "text/plain": [
       "users loop:   0%|          | 0/10 [00:00<?, ?it/s]"
      ]
     },
     "metadata": {},
     "output_type": "display_data"
    },
    {
     "name": "stderr",
     "output_type": "stream",
     "text": [
      "target position loop: 30it [03:10,  6.82s/it]"
     ]
    },
    {
     "data": {
      "application/vnd.jupyter.widget-view+json": {
       "model_id": "f7cc9b0af18145c7bdfc83a7d03e7dba",
       "version_major": 2,
       "version_minor": 0
      },
      "text/plain": [
       "users loop:   0%|          | 0/10 [00:00<?, ?it/s]"
      ]
     },
     "metadata": {},
     "output_type": "display_data"
    },
    {
     "name": "stderr",
     "output_type": "stream",
     "text": [
      "target position loop: 40it [03:10,  4.29s/it]"
     ]
    },
    {
     "data": {
      "application/vnd.jupyter.widget-view+json": {
       "model_id": "8b7949e0ec8845d78b58b178b9599965",
       "version_major": 2,
       "version_minor": 0
      },
      "text/plain": [
       "users loop:   0%|          | 0/10 [00:00<?, ?it/s]"
      ]
     },
     "metadata": {},
     "output_type": "display_data"
    },
    {
     "name": "stderr",
     "output_type": "stream",
     "text": [
      "target position loop: 40it [03:11,  4.78s/it]\n",
      "target position loop:   0%|          | 0/4 [00:00<?, ?it/s]"
     ]
    },
    {
     "name": "stdout",
     "output_type": "stream",
     "text": [
      "Stored 'brute_force_cfs_positive' (list)\n",
      "The backend used is: Combo\n"
     ]
    },
    {
     "data": {
      "application/vnd.jupyter.widget-view+json": {
       "model_id": "521e7c1f796042acad525370fb4ab928",
       "version_major": 2,
       "version_minor": 0
      },
      "text/plain": [
       "users loop:   0%|          | 0/10 [00:00<?, ?it/s]"
      ]
     },
     "metadata": {},
     "output_type": "display_data"
    },
    {
     "name": "stderr",
     "output_type": "stream",
     "text": [
      "target position loop: 20it [00:25,  1.27s/it]              "
     ]
    },
    {
     "data": {
      "application/vnd.jupyter.widget-view+json": {
       "model_id": "951d6d4086c246edb5a456479ba112f2",
       "version_major": 2,
       "version_minor": 0
      },
      "text/plain": [
       "users loop:   0%|          | 0/10 [00:00<?, ?it/s]"
      ]
     },
     "metadata": {},
     "output_type": "display_data"
    },
    {
     "name": "stderr",
     "output_type": "stream",
     "text": [
      "target position loop: 30it [00:50,  1.79s/it]"
     ]
    },
    {
     "data": {
      "application/vnd.jupyter.widget-view+json": {
       "model_id": "36cf934a340f4c5fb0c703d4482efb28",
       "version_major": 2,
       "version_minor": 0
      },
      "text/plain": [
       "users loop:   0%|          | 0/10 [00:00<?, ?it/s]"
      ]
     },
     "metadata": {},
     "output_type": "display_data"
    },
    {
     "name": "stderr",
     "output_type": "stream",
     "text": [
      "target position loop: 40it [01:10,  1.85s/it]"
     ]
    },
    {
     "data": {
      "application/vnd.jupyter.widget-view+json": {
       "model_id": "1688c006535c44e9a36a96cffed551b1",
       "version_major": 2,
       "version_minor": 0
      },
      "text/plain": [
       "users loop:   0%|          | 0/10 [00:00<?, ?it/s]"
      ]
     },
     "metadata": {},
     "output_type": "display_data"
    },
    {
     "name": "stderr",
     "output_type": "stream",
     "text": [
      "target position loop: 40it [01:22,  2.07s/it]\n",
      "target position loop:   0%|          | 0/4 [00:00<?, ?it/s]"
     ]
    },
    {
     "name": "stdout",
     "output_type": "stream",
     "text": [
      "The backend used is: Combo\n"
     ]
    },
    {
     "data": {
      "application/vnd.jupyter.widget-view+json": {
       "model_id": "e762d0969b974ccf81af4db66b32e533",
       "version_major": 2,
       "version_minor": 0
      },
      "text/plain": [
       "users loop:   0%|          | 0/10 [00:00<?, ?it/s]"
      ]
     },
     "metadata": {},
     "output_type": "display_data"
    },
    {
     "name": "stderr",
     "output_type": "stream",
     "text": [
      "target position loop: 20it [00:14,  1.41it/s]              "
     ]
    },
    {
     "data": {
      "application/vnd.jupyter.widget-view+json": {
       "model_id": "2df509dffd114bd896f381db8deed07e",
       "version_major": 2,
       "version_minor": 0
      },
      "text/plain": [
       "users loop:   0%|          | 0/10 [00:00<?, ?it/s]"
      ]
     },
     "metadata": {},
     "output_type": "display_data"
    },
    {
     "name": "stderr",
     "output_type": "stream",
     "text": [
      "target position loop: 30it [00:28,  1.02s/it]"
     ]
    },
    {
     "data": {
      "application/vnd.jupyter.widget-view+json": {
       "model_id": "337ff0fc6c374df38c149776aa4c90a8",
       "version_major": 2,
       "version_minor": 0
      },
      "text/plain": [
       "users loop:   0%|          | 0/10 [00:00<?, ?it/s]"
      ]
     },
     "metadata": {},
     "output_type": "display_data"
    },
    {
     "name": "stderr",
     "output_type": "stream",
     "text": [
      "target position loop: 40it [00:43,  1.20s/it]"
     ]
    },
    {
     "data": {
      "application/vnd.jupyter.widget-view+json": {
       "model_id": "75f987c9a2604c55b554bfcc9a69c304",
       "version_major": 2,
       "version_minor": 0
      },
      "text/plain": [
       "users loop:   0%|          | 0/10 [00:00<?, ?it/s]"
      ]
     },
     "metadata": {},
     "output_type": "display_data"
    },
    {
     "name": "stderr",
     "output_type": "stream",
     "text": [
      "target position loop: 40it [00:56,  1.41s/it]\n",
      "target position loop:   0%|          | 0/4 [00:00<?, ?it/s]"
     ]
    },
    {
     "name": "stdout",
     "output_type": "stream",
     "text": [
      "The backend used is: Combo\n"
     ]
    },
    {
     "data": {
      "application/vnd.jupyter.widget-view+json": {
       "model_id": "8b500c35f21e4234bfa772d4ae8d86e0",
       "version_major": 2,
       "version_minor": 0
      },
      "text/plain": [
       "users loop:   0%|          | 0/10 [00:00<?, ?it/s]"
      ]
     },
     "metadata": {},
     "output_type": "display_data"
    },
    {
     "name": "stderr",
     "output_type": "stream",
     "text": [
      "target position loop: 20it [00:09,  2.22it/s]              "
     ]
    },
    {
     "data": {
      "application/vnd.jupyter.widget-view+json": {
       "model_id": "4645d5fb9d2c4e5b8c059d65e34a157f",
       "version_major": 2,
       "version_minor": 0
      },
      "text/plain": [
       "users loop:   0%|          | 0/10 [00:00<?, ?it/s]"
      ]
     },
     "metadata": {},
     "output_type": "display_data"
    },
    {
     "name": "stderr",
     "output_type": "stream",
     "text": [
      "target position loop: 30it [00:19,  1.46it/s]"
     ]
    },
    {
     "data": {
      "application/vnd.jupyter.widget-view+json": {
       "model_id": "c1e49479393443e5a7c7a96e1072a952",
       "version_major": 2,
       "version_minor": 0
      },
      "text/plain": [
       "users loop:   0%|          | 0/10 [00:00<?, ?it/s]"
      ]
     },
     "metadata": {},
     "output_type": "display_data"
    },
    {
     "name": "stderr",
     "output_type": "stream",
     "text": [
      "target position loop: 40it [00:29,  1.25it/s]"
     ]
    },
    {
     "data": {
      "application/vnd.jupyter.widget-view+json": {
       "model_id": "3899917ab32a40979d31a835a6c0db50",
       "version_major": 2,
       "version_minor": 0
      },
      "text/plain": [
       "users loop:   0%|          | 0/10 [00:00<?, ?it/s]"
      ]
     },
     "metadata": {},
     "output_type": "display_data"
    },
    {
     "name": "stderr",
     "output_type": "stream",
     "text": [
      "target position loop: 40it [00:37,  1.06it/s]"
     ]
    },
    {
     "name": "stdout",
     "output_type": "stream",
     "text": [
      "Stored 'combo_cfs_positive' (list)\n"
     ]
    },
    {
     "name": "stderr",
     "output_type": "stream",
     "text": [
      "\n"
     ]
    }
   ],
   "source": [
    "## uncomment the following lines if you want to run the various strategies in budget_strategies\n",
    "implemented_strategies = os.path.join(base_dir, 'clean_budget_strategies_positive.ipynb')\n",
    "%run $implemented_strategies\n",
    "\n",
    "# Restore relevant variables from other notebooks\n",
    "\n",
    "%store -r random_cfs_positive\n",
    "%store -r brute_force_cfs_positive\n",
    "%store -r bfs_yloss_cfs_positive\n",
    "# %store -r dfs_yloss_cfs\n",
    "# %store -r bestfs_yloss_cfs\n",
    "%store -r bidirectional_cfs_positive\n",
    "%store -r combo_cfs_positive"
   ]
  },
  {
   "cell_type": "markdown",
   "id": "regular-hollywood",
   "metadata": {},
   "source": [
    "## Prepare data"
   ]
  },
  {
   "cell_type": "code",
   "execution_count": 4,
   "id": "pressed-dressing",
   "metadata": {},
   "outputs": [
    {
     "ename": "TypeError",
     "evalue": "convert_res_to_lists() missing 1 required positional argument: 'missing_target_in_topk'",
     "output_type": "error",
     "traceback": [
      "\u001b[1;31m---------------------------------------------------------------------------\u001b[0m",
      "\u001b[1;31mTypeError\u001b[0m                                 Traceback (most recent call last)",
      "Input \u001b[1;32mIn [4]\u001b[0m, in \u001b[0;36m<cell line: 5>\u001b[1;34m()\u001b[0m\n\u001b[0;32m      3\u001b[0m strs_prefix \u001b[38;5;241m=\u001b[39m \u001b[38;5;124m'\u001b[39m\u001b[38;5;124m'\u001b[39m\n\u001b[0;32m      5\u001b[0m \u001b[38;5;28;01mfor\u001b[39;00m i \u001b[38;5;129;01min\u001b[39;00m \u001b[38;5;28mrange\u001b[39m(\u001b[38;5;241m1\u001b[39m):\n\u001b[0;32m      6\u001b[0m     \u001b[38;5;66;03m# Convert results to lists for each strategy\u001b[39;00m\n\u001b[1;32m----> 7\u001b[0m     cnt, no_target_achieved_cases \u001b[38;5;241m=\u001b[39m \u001b[43mconvert_res_to_lists\u001b[49m\u001b[43m(\u001b[49m\n\u001b[0;32m      8\u001b[0m \u001b[43m        \u001b[49m\u001b[38;5;28;43mgetattr\u001b[39;49m\u001b[43m(\u001b[49m\u001b[43mcurrent_module\u001b[49m\u001b[43m,\u001b[49m\u001b[43m \u001b[49m\u001b[38;5;124;43mf\u001b[39;49m\u001b[38;5;124;43m'\u001b[39;49m\u001b[38;5;132;43;01m{\u001b[39;49;00m\u001b[43mstrs_prefix\u001b[49m\u001b[38;5;132;43;01m}\u001b[39;49;00m\u001b[38;5;132;43;01m{\u001b[39;49;00m\u001b[43mStrategies\u001b[49m\u001b[38;5;241;43m.\u001b[39;49m\u001b[43mstypes\u001b[49m\u001b[43m[\u001b[49m\u001b[38;5;241;43m0\u001b[39;49m\u001b[43m]\u001b[49m\u001b[38;5;132;43;01m}\u001b[39;49;00m\u001b[38;5;124;43m_cfs_positive\u001b[39;49m\u001b[38;5;124;43m'\u001b[39;49m\u001b[43m)\u001b[49m\u001b[43m[\u001b[49m\u001b[43mi\u001b[49m\u001b[43m]\u001b[49m\u001b[43m,\u001b[49m\n\u001b[0;32m      9\u001b[0m \u001b[43m        \u001b[49m\u001b[43mcnt\u001b[49m\u001b[43m,\u001b[49m\u001b[43m \u001b[49m\u001b[43mno_target_achieved_cases\u001b[49m\u001b[43m,\u001b[49m\u001b[43m \u001b[49m\u001b[38;5;124;43mf\u001b[39;49m\u001b[38;5;124;43m'\u001b[39;49m\u001b[38;5;124;43mrandom_\u001b[39;49m\u001b[38;5;132;43;01m{\u001b[39;49;00m\u001b[43mi\u001b[49m\u001b[38;5;132;43;01m}\u001b[39;49;00m\u001b[38;5;124;43m'\u001b[39;49m\u001b[43m)\u001b[49m\n\u001b[0;32m     11\u001b[0m     cnt, no_target_achieved_cases \u001b[38;5;241m=\u001b[39m convert_res_to_lists(\n\u001b[0;32m     12\u001b[0m         \u001b[38;5;28mgetattr\u001b[39m(current_module, \u001b[38;5;124mf\u001b[39m\u001b[38;5;124m'\u001b[39m\u001b[38;5;132;01m{\u001b[39;00mstrs_prefix\u001b[38;5;132;01m}\u001b[39;00m\u001b[38;5;132;01m{\u001b[39;00mStrategies\u001b[38;5;241m.\u001b[39mstypes[\u001b[38;5;241m1\u001b[39m]\u001b[38;5;132;01m}\u001b[39;00m\u001b[38;5;124m_cfs_positive\u001b[39m\u001b[38;5;124m'\u001b[39m)[i],\n\u001b[0;32m     13\u001b[0m         cnt, no_target_achieved_cases, \u001b[38;5;124mf\u001b[39m\u001b[38;5;124m'\u001b[39m\u001b[38;5;124mbrute_force_\u001b[39m\u001b[38;5;132;01m{\u001b[39;00mi\u001b[38;5;132;01m}\u001b[39;00m\u001b[38;5;124m'\u001b[39m)\n\u001b[0;32m     15\u001b[0m     cnt, no_target_achieved_cases \u001b[38;5;241m=\u001b[39m convert_res_to_lists(\n\u001b[0;32m     16\u001b[0m         \u001b[38;5;28mgetattr\u001b[39m(current_module, \u001b[38;5;124mf\u001b[39m\u001b[38;5;124m'\u001b[39m\u001b[38;5;132;01m{\u001b[39;00mstrs_prefix\u001b[38;5;132;01m}\u001b[39;00m\u001b[38;5;132;01m{\u001b[39;00mStrategies\u001b[38;5;241m.\u001b[39mstypes[\u001b[38;5;241m2\u001b[39m]\u001b[38;5;132;01m}\u001b[39;00m\u001b[38;5;124m_cfs_positive\u001b[39m\u001b[38;5;124m'\u001b[39m)[i \u001b[38;5;241m+\u001b[39m \u001b[38;5;241m1\u001b[39m],\n\u001b[0;32m     17\u001b[0m         cnt, no_target_achieved_cases, \u001b[38;5;124mf\u001b[39m\u001b[38;5;124m'\u001b[39m\u001b[38;5;124mbfs_\u001b[39m\u001b[38;5;132;01m{\u001b[39;00mi\u001b[38;5;132;01m}\u001b[39;00m\u001b[38;5;124m'\u001b[39m)\n",
      "\u001b[1;31mTypeError\u001b[0m: convert_res_to_lists() missing 1 required positional argument: 'missing_target_in_topk'"
     ]
    }
   ],
   "source": [
    "cnt = defaultdict(dict)\n",
    "no_target_achieved_cases = defaultdict(list)\n",
    "strs_prefix = ''\n",
    "\n",
    "for i in range(1):\n",
    "    # Convert results to lists for each strategy\n",
    "    cnt, no_target_achieved_cases = convert_res_to_lists(\n",
    "        getattr(current_module, f'{strs_prefix}{Strategies.stypes[0]}_cfs_positive')[i],\n",
    "        cnt, no_target_achieved_cases, f'random_{i}', False)\n",
    "    \n",
    "    cnt, no_target_achieved_cases = convert_res_to_lists(\n",
    "        getattr(current_module, f'{strs_prefix}{Strategies.stypes[1]}_cfs_positive')[i],\n",
    "        cnt, no_target_achieved_cases, f'brute_force_{i}', False)\n",
    "\n",
    "    cnt, no_target_achieved_cases = convert_res_to_lists(\n",
    "        getattr(current_module, f'{strs_prefix}{Strategies.stypes[2]}_cfs_positive')[i + 1],\n",
    "        cnt, no_target_achieved_cases, f'bfs_{i}', False)\n",
    "\n",
    "    cnt, no_target_achieved_cases = convert_res_to_lists(\n",
    "        getattr(current_module, f'{strs_prefix}{Strategies.stypes[3]}_cfs_positive')[i],\n",
    "        cnt, no_target_achieved_cases, f'bidirectional_001_{i}', False)\n",
    "    cnt, no_target_achieved_cases = convert_res_to_lists(\n",
    "        getattr(current_module, f'{strs_prefix}{Strategies.stypes[3]}_cfs_positive')[i + 1],\n",
    "        cnt, no_target_achieved_cases, f'bidirectional_5_{i}', False)\n",
    "    cnt, no_target_achieved_cases = convert_res_to_lists(\n",
    "        getattr(current_module, f'{strs_prefix}{Strategies.stypes[3]}_cfs_positive')[i + 2],\n",
    "        cnt, no_target_achieved_cases, f'bidirectional_999_{i}', False)\n",
    "\n",
    "    cnt, no_target_achieved_cases = convert_res_to_lists(\n",
    "        getattr(current_module, f'{strs_prefix}{Strategies.stypes[4]}_cfs_positive')[i],\n",
    "        cnt, no_target_achieved_cases, f'combo_001_{i}', False)\n",
    "    cnt, no_target_achieved_cases = convert_res_to_lists(\n",
    "        getattr(current_module, f'{strs_prefix}{Strategies.stypes[4]}_cfs_positive')[i + 1],\n",
    "        cnt, no_target_achieved_cases, f'combo_5_{i}', False)\n",
    "    cnt, no_target_achieved_cases = convert_res_to_lists(\n",
    "        getattr(current_module, f'{strs_prefix}{Strategies.stypes[4]}_cfs_positive')[i + 2],\n",
    "        cnt, no_target_achieved_cases, f'combo_999_{i}', False)"
   ]
  },
  {
   "cell_type": "code",
   "execution_count": null,
   "id": "considered-clarity",
   "metadata": {},
   "outputs": [],
   "source": [
    "methods_supported = ['Brute_Force', 'Random', 'BFS'] + \\\n",
    "    [f'BiDirectional_{m}' for m in ['001', '5', '999']] + \\\n",
    "    [f'Combo_{m}' for m in ['001', '5', '999']]\n",
    "\n",
    "strategies = [('init', 2), ('best', 3)]\n",
    "custom_range = [9, 29]\n",
    "target_pos = list(cnt.keys())\n",
    "cnames = ['user_id', 'method', 'pos', 'budget', 'init_budget', 'best_budget', 'cardinality', 'cfs_orig', 'cfs']\n",
    "\n",
    "rows, cols = 5, 1\n",
    "print(len(target_pos))\n",
    "print(list(zip(target_pos, range(rows))))\n",
    "\n",
    "tmp_dfs = []\n",
    "for col in range(cols):\n",
    "    for pos, row in zip(target_pos, range(rows)):\n",
    "\n",
    "        tmp_dfs.append(pd.DataFrame.from_records(list(\n",
    "            itertools.chain(*(\n",
    "                zip(v[6], itertools.repeat(k), itertools.repeat(pos), v[i], v[2], v[3],\n",
    "                    itertools.repeat(i - custom_range[0] + 1), v[7], v[8])\n",
    "                for k, v in cnt[pos].items() if f'_{col}' in k and k.rsplit('_', 1)[0] in map(lambda x: x.lower(), methods_supported)\n",
    "                for i in range(custom_range[0], custom_range[1])\n",
    "            ))), columns=cnames\n",
    "        ))\n",
    "\n",
    "df = pd.concat(tmp_dfs, ignore_index=True)\n",
    "print(df.head(20))"
   ]
  },
  {
   "cell_type": "code",
   "execution_count": null,
   "id": "5e91e32e",
   "metadata": {},
   "outputs": [],
   "source": [
    "print(df)"
   ]
  },
  {
   "cell_type": "code",
   "execution_count": null,
   "id": "through-lesbian",
   "metadata": {},
   "outputs": [],
   "source": [
    "idx = df.loc[(df['cfs_orig'] == df['cfs'])].duplicated(subset=['user_id', 'method', 'pos'], keep='last')\n",
    "df.loc[(df['cfs_orig'] == df['cfs']) & ~idx, ['budget']] = df.loc[(df['cfs_orig'] == df['cfs']) & ~idx]['best_budget']"
   ]
  },
  {
   "cell_type": "code",
   "execution_count": null,
   "id": "compressed-olympus",
   "metadata": {},
   "outputs": [],
   "source": [
    "def grouping(x, i=1):\n",
    "    users_uniq = x['user_id'].nunique()\n",
    "    print(x.columns)\n",
    "    mask = x.apply(lambda d : d['cardinality'] <= i)\n",
    "    no_users = x.loc[mask].sum()\n",
    "#     journal_author = x.groupby('Journal').apply(lambda d : ((((d['Subscription'] == 1) & (d['Known_author'] == 1)).sum()) > 0)).sum()\n",
    "    return pd.Series([no_users])\n",
    "# ddf = df.groupby(['method', 'pos']).apply(grouping)\n",
    "\n",
    "\n",
    "# # 1st plot: %users per card\n",
    "all_users = df['user_id'].nunique()\n",
    "\n",
    "res = []\n",
    "for i in range(1, 21):\n",
    "    res.append(df[(df['budget'] > 0) & (df['cardinality'] <= i) & (df['best_budget'] <= 1000)]\n",
    "               .groupby(['method', 'pos'], sort=False)[['user_id', 'cfs']]\n",
    "               .nunique()\n",
    "               .reset_index())\n",
    "\n",
    "ddf = pd.concat(res, ignore_index=True)\n",
    "ddf['%users'] = (ddf['user_id'] / all_users) * 100\n",
    "\n",
    "# 2nd plot: average budget\n",
    "max_card = 5\n",
    "init = 100\n",
    "end = 1001\n",
    "step = 100\n",
    "\n",
    "\n",
    "res = []\n",
    "for b in range(init, end, step):\n",
    "    aggregated = df[(df['budget'] > 0) & (df['best_budget'] <= b)]\\\n",
    "        .groupby(['method', 'pos'], sort=False)\\\n",
    "        .agg(card_mean=('cfs', 'mean'), no_users=('user_id', 'nunique'))\\\n",
    "        .reset_index()\n",
    "    aggregated['budget_thres'] = b\n",
    "    aggregated['max_users'] = aggregated.groupby(['pos'])['no_users'].transform(max)\n",
    "    res.append(aggregated)\n",
    "\n",
    "ddf2 = pd.concat(res, ignore_index=True)\n",
    "ddf2['%users'] = (ddf2['no_users'] / all_users) * 100\n",
    "# ddf2['combined_means'] = ((ddf2['card_mean'] * ddf2['no_users']) + (20 * (ddf2['max_users'] - ddf2['no_users']))) / (ddf2['max_users'])\n",
    "ddf2['combined_means'] = ddf2['card_mean']\n",
    "\n",
    "\n",
    "# 3rd plot:\n",
    "def aggf(data):\n",
    "    users_grouping = data.groupby(['user_id']).apply(\n",
    "        lambda d: d.loc[d['budget'] == d['budget'].max()]\n",
    "    )\n",
    "\n",
    "    return pd.Series(\n",
    "        [users_grouping['budget'].mean(),\n",
    "         users_grouping['user_id'].count()],\n",
    "        ['avg_budget', 'no_users']\n",
    "    )\n",
    "\n",
    "# .apply(lambda d: pd.Series(dict(\n",
    "#             avg_budget=d.groupby(['user_id']).apply(\n",
    "#                 lambda x: x.loc[(x['cardinality'] == x['cardinality'].min()), 'budget'].mean(),\n",
    "#             ),\n",
    "# #             no_users=d.loc[d['cardinality'],min(), 'user_id'].count(),\n",
    "#             max_users=d['user_id'].nunique()\n",
    "#         )))\\\n",
    "\n",
    "\n",
    "res = []\n",
    "for i in range(5, 0, -1):\n",
    "    aggregated = df[(df['budget'] > 0) & (df['cardinality'] <= i) & (df['best_budget'] <= 1000)]\\\n",
    "        .groupby(['method', 'pos'], sort=False)\\\n",
    "        .apply(aggf)\\\n",
    "        .reset_index()\n",
    "    aggregated['cardinality'] = i\n",
    "    res.append(aggregated)\n",
    "\n",
    "ddf3 = pd.concat(res, ignore_index=True)\n",
    "ddf3['%users'] = (ddf3['no_users'] / all_users) * 100"
   ]
  },
  {
   "cell_type": "markdown",
   "id": "relevant-wheat",
   "metadata": {},
   "source": [
    "## Plots"
   ]
  },
  {
   "cell_type": "code",
   "execution_count": null,
   "id": "vanilla-insulation",
   "metadata": {},
   "outputs": [],
   "source": [
    "import matplotlib.ticker as mticker\n",
    "\n",
    "\n",
    "sns.set_theme(style=\"ticks\", font_scale=1.5, )\n",
    "\n",
    "# Create an array with the colors you want to use\n",
    "# colors = [\"#FF0B04\", \"#4374B3\", \"#9b59b6\", \"#3498db\", \"#95a5a6\", \"#e74c3c\", \"#34495e\", \"#2ecc71\"]\n",
    "colors = ['black', 'darkred', 'green', 'darkblue', 'dodgerblue', 'darkturquoise', 'darkgoldenrod', 'orange', 'chocolate']\n",
    "\n",
    "# Set your custom color palette\n",
    "custom_palette = sns.set_palette(sns.color_palette(colors))\n",
    "\n",
    "# custom_markers = ['o', 'v', '^', 's', 'P', 'X', '<', '>', 'D', ]\n",
    "custom_markers = ['o', 'v', '^', 'P', 'P', 'P', 'X', 'X', 'X']\n",
    "custom_dashes = [(1, 0), (4, 0), (4, 0), (4, 0), (6, 2), (1, 2), (1, 0), (6, 2), (1, 2)]"
   ]
  },
  {
   "cell_type": "code",
   "execution_count": null,
   "id": "supreme-painting",
   "metadata": {
    "jupyter": {
     "source_hidden": true
    }
   },
   "outputs": [],
   "source": [
    "a4_dims = (11.7, 8.27)\n",
    "\n",
    "g = sns.catplot(\n",
    "    data=ddf[(ddf['pos']==13) ], kind=\"bar\",\n",
    "    x=\"cfs\", y=\"%users\", hue=\"method\",\n",
    "    ci=\"sd\", capsize=0.1, palette=\"dark\", alpha=.8, height=6, aspect=4,\n",
    ")"
   ]
  },
  {
   "cell_type": "code",
   "execution_count": null,
   "id": "sustained-belle",
   "metadata": {
    "jupyter": {
     "source_hidden": true
    }
   },
   "outputs": [],
   "source": [
    "# Draw a nested barplot by species and sex\n",
    "# g = sns.catplot(\n",
    "#     data=ddf2[ddf2['pos']==3], kind=\"bar\",\n",
    "#     x=\"budget_thres\", y='combined_means', hue=\"method\",\n",
    "#     ci=None, palette=\"dark\", alpha=.8, height=6, aspect=4,\n",
    "# )\n",
    "\n",
    "# num_locations = len(ddf2.groupby('budget_thres').groups.keys())\n",
    "# hatches = itertools.cycle(['//', '+', '-', 'x', '\\\\', '*', 'o', '.'])\n",
    "# for i, bar in enumerate(g.ax.patches):\n",
    "#     if i % num_locations == 0:\n",
    "#         hatch = next(hatches)\n",
    "#     bar.set_hatch(hatch)\n",
    "\n",
    "# g.ax.legend(loc='upper center', bbox_to_anchor=(0.5, 1.1), ncol=3, fancybox=True, shadow=False)\n",
    "\n",
    "# g.despine(left=True)\n",
    "# g.set_axis_labels(\"threshold\", \"cardinality average\")\n",
    "# g.legend.set_title(\"\")\n",
    "\n",
    "rows, cols = len(df.groupby('pos').groups.keys()), 1\n",
    "\n",
    "for i, p in enumerate(df.groupby('pos').groups.keys()):\n",
    "    a4_dims = (11.7, 8.27)\n",
    "    fig, ax = plt.subplots(figsize=a4_dims)\n",
    "    print(ddf2[(ddf2['pos'] == p)]['method'].unique())\n",
    "    print(custom_markers)\n",
    "    print(len(ddf2['method'].unique()))\n",
    "    g = sns.lineplot(\n",
    "        ax=ax, data=ddf2[(ddf2['pos'] == p)],\n",
    "        x=\"budget_thres\", y=\"card_mean\", hue=\"method\", style='method',\n",
    "        palette=custom_palette,\n",
    "        markers=custom_markers[:len(ddf2['method'].unique())], markersize=12, lw=2, ls='solid', dashes=custom_dashes[:len(ddf2['method'].unique())]\n",
    "    )\n",
    "\n",
    "    g.set(yscale='log')\n",
    "#     locmin = mticker.LogLocator(base=10, subs=np.arange(0, 1, 0.1), numticks=12)\n",
    "#     ax.yaxis.set_minor_locator(locmin)\n",
    "#     ax.yaxis.set_minor_formatter(mticker.NullFormatter())\n",
    "#     ax.yaxis.set_major_formatter(mticker.ScalarFormatter())\n",
    "#     ax.yaxis.get_major_formatter().set_scientific(False)\n",
    "#     ax.yaxis.get_major_formatter().set_useOffset(False)\n",
    "\n",
    "    # Turns on grid on the Axis.\n",
    "#     plt.grid(True, which=\"both\", ls=\"--\", c='gray')\n",
    "#     scientific_formatter = mticker.FuncFormatter()\n",
    "#     ax.yaxis.set_major_formatter(mticker.ScalarFormatter(useMathText=True))\n",
    "    ax.yaxis.set_major_formatter(mticker.FormatStrFormatter('%.0f'))\n",
    "    ax.yaxis.set_minor_formatter(mticker.FormatStrFormatter('%.0f'))\n",
    "\n",
    "    lgnd = ax.legend(fancybox=True, frameon=True, labelspacing=0, borderpad=1, loc='upper left', bbox_to_anchor=(0, 0.9), ncol=3,)\n",
    "\n",
    "    # replace labels\n",
    "    new_labels = ['Rnd', 'Exh', 'BFS', 'Pri_0.001', 'Pri_0.5', 'Pri_0.999', 'Hyb_0.001', 'Hyb_0.5', 'Hyb_0.999']\n",
    "    for t, l in zip(lgnd.texts, new_labels): t.set_text(l)\n",
    "\n",
    "    ax.set(xlabel=\"Budget\", ylabel=\"Avg. Explanation Length\")\n",
    "    ax.set_title(f'Target position {p}')\n",
    "\n",
    "    fig.tight_layout()\n",
    "    plt.savefig(os.path.join(plots_folder, f\"avg_card_to_thres_pos_{p}.pdf\"), dpi=300)"
   ]
  },
  {
   "cell_type": "code",
   "execution_count": null,
   "id": "anticipated-commissioner",
   "metadata": {
    "jupyter": {
     "source_hidden": true
    }
   },
   "outputs": [],
   "source": [
    "rows, cols = len(df.groupby('pos').groups.keys()), 1\n",
    "\n",
    "for i, p in enumerate(df.groupby('pos').groups.keys()):\n",
    "    a4_dims = (11.7, 8.27)\n",
    "    fig, ax = plt.subplots(figsize=a4_dims)\n",
    "\n",
    "    g = sns.lineplot(\n",
    "        ax=ax, data=ddf2[(ddf2['pos'] == p)],\n",
    "        x=\"budget_thres\", y=\"%users\", hue=\"method\", style='method',\n",
    "        palette=custom_palette, markers=custom_markers, markersize=12, dashes=custom_dashes, lw=2,\n",
    "    )\n",
    "\n",
    "#     g.set(yscale='log')\n",
    "#     locmin = mticker.LogLocator(base=10, subs=np.arange(0, 1, 0.1), numticks=12)\n",
    "#     ax.yaxis.set_minor_locator(locmin)\n",
    "#     ax.yaxis.set_minor_formatter(mticker.NullFormatter())\n",
    "\n",
    "#     plt.grid(True, which=\"both\", ls=\"--\", c='gray')\n",
    "\n",
    "    lgnd = ax.legend(fancybox=True, frameon=True, labelspacing=0, borderpad=1, loc='lower right', ncol=3,)\n",
    "\n",
    "    # replace labels\n",
    "    new_labels = ['Rnd', 'Exh', 'BFS', 'Pri_0.001', 'Pri_0.5', 'Pri_0.999', 'Hyb_0.001', 'Hyb_0.5', 'Hyb_0.999']\n",
    "    for t, l in zip(lgnd.texts, new_labels): t.set_text(l)\n",
    "\n",
    "    ax.set(xlabel=\"Budget\", ylabel=\"Explained Recommendations (%)\")\n",
    "    ax.set_title(f'Target position {p}')\n",
    "\n",
    "    fig.tight_layout()\n",
    "    plt.savefig(os.path.join(plots_folder, f\"users_percent_to_thres_pos_{p}.pdf\"), dpi=300)"
   ]
  },
  {
   "cell_type": "code",
   "execution_count": null,
   "id": "independent-single",
   "metadata": {
    "jupyter": {
     "source_hidden": true
    }
   },
   "outputs": [],
   "source": [
    "rows, cols = len(df.groupby('pos').groups.keys()), 1\n",
    "\n",
    "for i, p in enumerate(df.groupby('pos').groups.keys()):\n",
    "    a4_dims = (11.7, 8.27)\n",
    "    fig, ax = plt.subplots(figsize=a4_dims)\n",
    "\n",
    "    g = sns.lineplot(\n",
    "        ax=ax, data=ddf3[(ddf3['pos']==p)],\n",
    "        x=\"cardinality\", y=\"avg_budget\", hue=\"method\", style='method',\n",
    "        palette=custom_palette, markers=custom_markers, markersize=12, dashes=custom_dashes, lw=2\n",
    "    )\n",
    "    g.set(yscale='log')\n",
    "    locmin = mticker.LogLocator(base=10, subs=[10, 20, 50, 100, 200, 500, 700], numticks=12)\n",
    "    ax.yaxis.set_minor_locator(locmin)\n",
    "    ax.yaxis.set_major_formatter(mticker.FormatStrFormatter('%.0f'))\n",
    "    ax.yaxis.set_minor_formatter(mticker.FormatStrFormatter('%.0f'))\n",
    "    # ax.yaxis.set_minor_formatter(mticker.NullFormatter())\n",
    "\n",
    "    ax.set_xticks(np.arange(1, 6, 1))\n",
    "\n",
    "    # plt.grid(True, which=\"both\", ls=\"--\", c='gray')\n",
    "\n",
    "    lgnd = ax.legend(fancybox=True, frameon=True, labelspacing=0, borderpad=1, loc='center left', bbox_to_anchor=(0, 0.65), ncol=3,)\n",
    "    # replace labels\n",
    "    new_labels = ['Rnd', 'Exh', 'BFS', 'Pri_0.001', 'Pri_0.5', 'Pri_0.999', 'Hyb_0.001', 'Hyb_0.5', 'Hyb_0.999']\n",
    "    for t, l in zip(lgnd.texts, new_labels): t.set_text(l)\n",
    "\n",
    "    ax.set(xlabel=\"Acceptable Explanation Length\", ylabel=\"Avg. Budget Spent\")\n",
    "    ax.set_title(f'Target Position {p}')\n",
    "\n",
    "    fig.tight_layout()\n",
    "    plt.savefig(os.path.join(plots_folder, f\"avg_budget_to_card_pos_{p}.pdf\"), dpi=300)"
   ]
  },
  {
   "cell_type": "code",
   "execution_count": null,
   "id": "organized-weight",
   "metadata": {
    "jupyter": {
     "source_hidden": true
    }
   },
   "outputs": [],
   "source": [
    "rows, cols = len(df.groupby('pos').groups.keys()), 1\n",
    "\n",
    "for i, p in enumerate(df.groupby('pos').groups.keys()):\n",
    "    a4_dims = (11.7, 8.27)\n",
    "    fig, ax = plt.subplots(figsize=a4_dims)\n",
    "\n",
    "    g = sns.lineplot(ax=ax,\n",
    "        data=ddf3[(ddf3['pos']==p) ],\n",
    "        x=\"cardinality\", y=\"%users\", hue=\"method\", style='method',\n",
    "        palette=custom_palette, markers=custom_markers, markersize=12, dashes=custom_dashes, lw=2\n",
    "    )\n",
    "\n",
    "#     g.set(yscale='log')\n",
    "#     locmin = mticker.LogLocator(base=10, subs=np.arange(0, 1, 0.1), numticks=12)\n",
    "#     ax.yaxis.set_minor_locator(locmin)\n",
    "#     ax.yaxis.set_minor_formatter(mticker.NullFormatter())\n",
    "#     ax.yaxis.set_minor_formatter(mticker.NullFormatter())\n",
    "\n",
    "    ax.set_xticks(np.arange(1, 6, 1))\n",
    "\n",
    "#     plt.grid(True, which=\"both\", ls=\"--\", c='gray')\n",
    "\n",
    "    lgnd = ax.legend(fancybox=True, frameon=True, labelspacing=0, borderpad=1, loc='lower right', ncol=3,)\n",
    "    # replace labels\n",
    "    new_labels = ['Rnd', 'Exh', 'BFS', 'Pri_0.001', 'Pri_0.5', 'Pri_0.999', 'Hyb_0.001', 'Hyb_0.5', 'Hyb_0.999']\n",
    "    for t, l in zip(lgnd.texts, new_labels): t.set_text(l)\n",
    "\n",
    "    ax.set(xlabel=\"Acceptable Explanation Length\", ylabel=\"Explained Recommendations (%)\")\n",
    "    ax.set_title(f'Target position {p}')\n",
    "\n",
    "    fig.tight_layout()\n",
    "    plt.savefig(os.path.join(plots_folder, f\"users_percent_to_card_pos_{p}.pdf\"), dpi=300)"
   ]
  },
  {
   "cell_type": "markdown",
   "id": "simple-islam",
   "metadata": {},
   "source": [
    "# Amazon"
   ]
  },
  {
   "cell_type": "markdown",
   "id": "geographic-street",
   "metadata": {},
   "source": [
    "## Load data"
   ]
  },
  {
   "cell_type": "code",
   "execution_count": null,
   "id": "adverse-ontario",
   "metadata": {},
   "outputs": [],
   "source": [
    "## uncomment the following lines if you want to run the various strategies in budget_strategies\n",
    "# implemented_strategies = os.path.join(base_dir, 'budget_strategies.ipynb')\n",
    "# %run $implemented_strategies\n",
    "\n",
    "%store -r amazon_random_cfs\n",
    "%store -r amazon_brute_force_cfs\n",
    "\n",
    "%store -r amazon_bfs_yloss_cfs\n",
    "# %store -r dfs_yloss_cfs\n",
    "# %store -r bestfs_yloss_cfs\n",
    "\n",
    "%store -r amazon_bidirectional_cfs\n",
    "%store -r amazon_combo_cfs"
   ]
  },
  {
   "cell_type": "markdown",
   "id": "comparable-blond",
   "metadata": {},
   "source": [
    "## Prepare data"
   ]
  },
  {
   "cell_type": "code",
   "execution_count": null,
   "id": "affected-doctrine",
   "metadata": {},
   "outputs": [],
   "source": [
    "from collections import Counter\n",
    "\n",
    "\n",
    "# cnt = dict.fromkeys(most_sim_cfs.keys())\n",
    "# no_target_achieved_cases = dict.fromkeys(most_sim_cfs.keys())\n",
    "cnt = defaultdict(dict)\n",
    "no_target_achieved_cases = defaultdict(list)\n",
    "strs_prefix = 'amazon_'\n",
    "\n",
    "for i in range(1):\n",
    "    cnt, no_target_achieved_cases = convert_res_to_lists(\n",
    "        getattr(current_module, f'{strs_prefix}{Strategies.stypes[0]}_cfs')[i],\n",
    "        cnt, no_target_achieved_cases, f'random_{i}')\n",
    "    cnt, no_target_achieved_cases = convert_res_to_lists(\n",
    "        getattr(current_module, f'{strs_prefix}{Strategies.stypes[1]}_cfs')[i],\n",
    "        cnt, no_target_achieved_cases, f'brute_force_{i}')\n",
    "\n",
    "    cnt, no_target_achieved_cases = convert_res_to_lists(\n",
    "        getattr(current_module, f'{strs_prefix}{Strategies.stypes[2]}_cfs')[i],\n",
    "        cnt, no_target_achieved_cases, f'bfs_{i}')\n",
    "\n",
    "    cnt, no_target_achieved_cases = convert_res_to_lists(\n",
    "        getattr(current_module, f'{strs_prefix}{Strategies.stypes[3]}_cfs')[i],\n",
    "        cnt, no_target_achieved_cases, f'bidirectional_001_{i}')\n",
    "    cnt, no_target_achieved_cases = convert_res_to_lists(\n",
    "        getattr(current_module, f'{strs_prefix}{Strategies.stypes[3]}_cfs')[i + 1],\n",
    "        cnt, no_target_achieved_cases, f'bidirectional_5_{i}')\n",
    "    cnt, no_target_achieved_cases = convert_res_to_lists(\n",
    "        getattr(current_module, f'{strs_prefix}{Strategies.stypes[3]}_cfs')[i + 2],\n",
    "        cnt, no_target_achieved_cases, f'bidirectional_999_{i}')\n",
    "\n",
    "    cnt, no_target_achieved_cases = convert_res_to_lists(\n",
    "        getattr(current_module, f'{strs_prefix}{Strategies.stypes[4]}_cfs')[i],\n",
    "        cnt, no_target_achieved_cases, f'combo_001_{i}')\n",
    "    cnt, no_target_achieved_cases = convert_res_to_lists(\n",
    "        getattr(current_module, f'{strs_prefix}{Strategies.stypes[4]}_cfs')[i + 1],\n",
    "        cnt, no_target_achieved_cases, f'combo_5_{i}')\n",
    "    cnt, no_target_achieved_cases = convert_res_to_lists(\n",
    "        getattr(current_module, f'{strs_prefix}{Strategies.stypes[4]}_cfs')[i + 2],\n",
    "        cnt, no_target_achieved_cases, f'combo_999_{i}')"
   ]
  },
  {
   "cell_type": "code",
   "execution_count": null,
   "id": "heated-boating",
   "metadata": {},
   "outputs": [],
   "source": [
    "methods_supported = ['Brute_Force', 'Random', 'BFS'] + \\\n",
    "    [f'BiDirectional_{m}' for m in ['001', '5', '999']] + \\\n",
    "    [f'Combo_{m}' for m in ['001', '5', '999']]\n",
    "\n",
    "strategies = [('init', 2), ('best', 3)]\n",
    "custom_range = [9, 29]\n",
    "target_pos = list(cnt.keys())\n",
    "cnames = ['user_id', 'method', 'pos', 'budget', 'init_budget', 'best_budget', 'cardinality', 'cfs_orig', 'cfs']\n",
    "\n",
    "rows, cols = 5, 1\n",
    "\n",
    "tmp_dfs = []\n",
    "for col in range(cols):\n",
    "    for pos, row in zip(target_pos, range(rows)):\n",
    "\n",
    "        tmp_dfs.append(pd.DataFrame.from_records(list(\n",
    "            itertools.chain(*(\n",
    "                zip(v[6], itertools.repeat(k), itertools.repeat(pos), v[i], v[2], v[3],\n",
    "                    itertools.repeat(i - custom_range[0] + 1), v[7], v[8])\n",
    "                for k, v in cnt[pos].items() if f'_{col}' in k and k.rsplit('_', 1)[0] in map(lambda x: x.lower(), methods_supported)\n",
    "                for i in range(custom_range[0], custom_range[1])\n",
    "            ))), columns=cnames\n",
    "        ))\n",
    "\n",
    "df = pd.concat(tmp_dfs, ignore_index=True)"
   ]
  },
  {
   "cell_type": "code",
   "execution_count": null,
   "id": "willing-airport",
   "metadata": {},
   "outputs": [],
   "source": [
    "idx = df.loc[(df['cfs_orig'] == df['cfs'])].duplicated(subset=['user_id', 'method', 'pos'], keep='last')\n",
    "df.loc[(df['cfs_orig'] == df['cfs']) & ~idx, ['budget']] = df.loc[(df['cfs_orig'] == df['cfs']) & ~idx]['best_budget']"
   ]
  },
  {
   "cell_type": "code",
   "execution_count": null,
   "id": "according-whole",
   "metadata": {},
   "outputs": [],
   "source": [
    "def grouping(x, i=1):\n",
    "    users_uniq = x['user_id'].nunique()\n",
    "    print(x.columns)\n",
    "    mask = x.apply(lambda d : d['cardinality'] <= i)\n",
    "    no_users = x.loc[mask].sum()\n",
    "#     journal_author = x.groupby('Journal').apply(lambda d : ((((d['Subscription'] == 1) & (d['Known_author'] == 1)).sum()) > 0)).sum()\n",
    "    return pd.Series([no_users])\n",
    "# ddf = df.groupby(['method', 'pos']).apply(grouping)\n",
    "\n",
    "\n",
    "# # 1st plot: %users per card\n",
    "all_users = df['user_id'].nunique()\n",
    "\n",
    "res = []\n",
    "for i in range(1, 21):\n",
    "    res.append(df[(df['budget'] > 0) & (df['cardinality'] <= i) & (df['best_budget'] <= 1000)]\n",
    "               .groupby(['method', 'pos'], sort=False)[['user_id', 'cfs']]\n",
    "               .nunique()\n",
    "               .reset_index())\n",
    "\n",
    "ddf = pd.concat(res, ignore_index=True)\n",
    "ddf['%users'] = (ddf['user_id'] / all_users) * 100\n",
    "\n",
    "# 2nd plot: average budget\n",
    "max_card = 5\n",
    "init = 100\n",
    "end = 1001\n",
    "step = 100\n",
    "\n",
    "\n",
    "res = []\n",
    "for b in range(init, end, step):\n",
    "    aggregated = df[(df['budget'] > 0) & (df['best_budget'] <= b)]\\\n",
    "        .groupby(['method', 'pos'], sort=False)\\\n",
    "        .agg(card_mean=('cfs', 'mean'), no_users=('user_id', 'nunique'))\\\n",
    "        .reset_index()\n",
    "    aggregated['budget_thres'] = b\n",
    "    aggregated['max_users'] = aggregated.groupby(['pos'])['no_users'].transform(max)\n",
    "    res.append(aggregated)\n",
    "\n",
    "ddf2 = pd.concat(res, ignore_index=True)\n",
    "ddf2['%users'] = (ddf2['no_users'] / all_users) * 100\n",
    "# ddf2['combined_means'] = ((ddf2['card_mean'] * ddf2['no_users']) + (20 * (ddf2['max_users'] - ddf2['no_users']))) / (ddf2['max_users'])\n",
    "ddf2['combined_means'] = ddf2['card_mean']\n",
    "\n",
    "\n",
    "# 3rd plot:\n",
    "def aggf(data):\n",
    "    users_grouping = data.groupby(['user_id']).apply(\n",
    "        lambda d: d.loc[d['budget'] == d['budget'].max()]\n",
    "    )\n",
    "\n",
    "    return pd.Series(\n",
    "        [users_grouping['budget'].mean(),\n",
    "         users_grouping['user_id'].count()],\n",
    "        ['avg_budget', 'no_users']\n",
    "    )\n",
    "\n",
    "# .apply(lambda d: pd.Series(dict(\n",
    "#             avg_budget=d.groupby(['user_id']).apply(\n",
    "#                 lambda x: x.loc[(x['cardinality'] == x['cardinality'].min()), 'budget'].mean(),\n",
    "#             ),\n",
    "# #             no_users=d.loc[d['cardinality'],min(), 'user_id'].count(),\n",
    "#             max_users=d['user_id'].nunique()\n",
    "#         )))\\\n",
    "\n",
    "\n",
    "res = []\n",
    "for i in range(5, 0, -1):\n",
    "    aggregated = df[(df['budget'] > 0) & (df['cardinality'] <= i) & (df['best_budget'] <= 1000)]\\\n",
    "        .groupby(['method', 'pos'], sort=False)\\\n",
    "        .apply(aggf)\\\n",
    "        .reset_index()\n",
    "    aggregated['cardinality'] = i\n",
    "    res.append(aggregated)\n",
    "\n",
    "ddf3 = pd.concat(res, ignore_index=True)\n",
    "ddf3['%users'] = (ddf3['no_users'] / all_users) * 100"
   ]
  },
  {
   "cell_type": "markdown",
   "id": "prospective-attribute",
   "metadata": {},
   "source": [
    "## Plots"
   ]
  },
  {
   "cell_type": "code",
   "execution_count": null,
   "id": "streaming-unknown",
   "metadata": {},
   "outputs": [],
   "source": [
    "import matplotlib.ticker as mticker\n",
    "\n",
    "\n",
    "sns.set_theme(style=\"ticks\", font_scale=1.5, )\n",
    "\n",
    "# Create an array with the colors you want to use\n",
    "# colors = [\"#FF0B04\", \"#4374B3\", \"#9b59b6\", \"#3498db\", \"#95a5a6\", \"#e74c3c\", \"#34495e\", \"#2ecc71\"]\n",
    "colors = ['black', 'darkred', 'green', 'darkblue', 'dodgerblue', 'darkturquoise', 'darkgoldenrod', 'orange', 'chocolate']\n",
    "\n",
    "# Set your custom color palette\n",
    "custom_palette = sns.set_palette(sns.color_palette(colors))\n",
    "\n",
    "# custom_markers = ['o', 'v', '^', 's', 'P', 'X', '<', '>', 'D', ]\n",
    "custom_markers = ['o', 'v', '^', 'P', 'P', 'P', 'X', 'X', 'X']\n",
    "custom_dashes = [(1, 0), (4, 0), (4, 0), (4, 0), (6, 2), (1, 2), (1, 0), (6, 2), (1, 2)]"
   ]
  },
  {
   "cell_type": "code",
   "execution_count": null,
   "id": "fossil-advertiser",
   "metadata": {},
   "outputs": [],
   "source": [
    "# Draw a nested barplot by species and sex\n",
    "# g = sns.catplot(\n",
    "#     data=ddf2[ddf2['pos']==3], kind=\"bar\",\n",
    "#     x=\"budget_thres\", y='combined_means', hue=\"method\",\n",
    "#     ci=None, palette=\"dark\", alpha=.8, height=6, aspect=4,\n",
    "# )\n",
    "\n",
    "# num_locations = len(ddf2.groupby('budget_thres').groups.keys())\n",
    "# hatches = itertools.cycle(['//', '+', '-', 'x', '\\\\', '*', 'o', '.'])\n",
    "# for i, bar in enumerate(g.ax.patches):\n",
    "#     if i % num_locations == 0:\n",
    "#         hatch = next(hatches)\n",
    "#     bar.set_hatch(hatch)\n",
    "\n",
    "# g.ax.legend(loc='upper center', bbox_to_anchor=(0.5, 1.1), ncol=3, fancybox=True, shadow=False)\n",
    "\n",
    "# g.despine(left=True)\n",
    "# g.set_axis_labels(\"threshold\", \"cardinality average\")\n",
    "# g.legend.set_title(\"\")\n",
    "\n",
    "rows, cols = len(df.groupby('pos').groups.keys()), 1\n",
    "\n",
    "for i, p in enumerate(df.groupby('pos').groups.keys()):\n",
    "    a4_dims = (11.7, 8.27)\n",
    "    fig, ax = plt.subplots(figsize=a4_dims)\n",
    "\n",
    "    g = sns.lineplot(\n",
    "        ax=ax, data=ddf2[(ddf2['pos'] == p)],\n",
    "        x=\"budget_thres\", y=\"card_mean\", hue=\"method\", style='method',\n",
    "        palette=custom_palette,\n",
    "        markers=custom_markers, markersize=12, lw=2, ls='solid', dashes=custom_dashes\n",
    "    )\n",
    "\n",
    "    g.set(yscale='log')\n",
    "#     locmin = mticker.LogLocator(base=10, subs=np.arange(0, 1, 0.1), numticks=12)\n",
    "#     ax.yaxis.set_minor_locator(locmin)\n",
    "#     ax.yaxis.set_minor_formatter(mticker.NullFormatter())\n",
    "#     ax.yaxis.set_major_formatter(mticker.ScalarFormatter())\n",
    "#     ax.yaxis.get_major_formatter().set_scientific(False)\n",
    "#     ax.yaxis.get_major_formatter().set_useOffset(False)\n",
    "\n",
    "    # Turns on grid on the Axis.\n",
    "#     plt.grid(True, which=\"both\", ls=\"--\", c='gray')\n",
    "#     scientific_formatter = mticker.FuncFormatter()\n",
    "#     ax.yaxis.set_major_formatter(mticker.ScalarFormatter(useMathText=True))\n",
    "    ax.yaxis.set_major_formatter(mticker.FormatStrFormatter('%.0f'))\n",
    "    ax.yaxis.set_minor_formatter(mticker.FormatStrFormatter('%.0f'))\n",
    "\n",
    "    lgnd = ax.legend(fancybox=True, frameon=True, labelspacing=0, borderpad=1, loc='upper left', bbox_to_anchor=(0, 0.9), ncol=3,)\n",
    "\n",
    "    # replace labels\n",
    "    new_labels = ['Rnd', 'Exh', 'BFS', 'Pri_0.001', 'Pri_0.5', 'Pri_0.999', 'Hyb_0.001', 'Hyb_0.5', 'Hyb_0.999']\n",
    "    for t, l in zip(lgnd.texts, new_labels): t.set_text(l)\n",
    "\n",
    "    ax.set(xlabel=\"Budget\", ylabel=\"Avg. Explanation Length\")\n",
    "    ax.set_title(f'Target position {p}')\n",
    "\n",
    "    fig.tight_layout()\n",
    "    plt.savefig(os.path.join(plots_folder, f\"{strs_prefix}avg_card_to_thres_pos_{p}.pdf\"), dpi=300)"
   ]
  },
  {
   "cell_type": "code",
   "execution_count": null,
   "id": "beautiful-characterization",
   "metadata": {},
   "outputs": [],
   "source": [
    "rows, cols = len(df.groupby('pos').groups.keys()), 1\n",
    "\n",
    "for i, p in enumerate(df.groupby('pos').groups.keys()):\n",
    "    a4_dims = (11.7, 8.27)\n",
    "    fig, ax = plt.subplots(figsize=a4_dims)\n",
    "\n",
    "    g = sns.lineplot(\n",
    "        ax=ax, data=ddf2[(ddf2['pos'] == p)],\n",
    "        x=\"budget_thres\", y=\"%users\", hue=\"method\", style='method',\n",
    "        palette=custom_palette, markers=custom_markers, markersize=12, dashes=custom_dashes, lw=2,\n",
    "    )\n",
    "\n",
    "#     g.set(yscale='log')\n",
    "#     locmin = mticker.LogLocator(base=10, subs=np.arange(0, 1, 0.1), numticks=12)\n",
    "#     ax.yaxis.set_minor_locator(locmin)\n",
    "#     ax.yaxis.set_minor_formatter(mticker.NullFormatter())\n",
    "\n",
    "#     plt.grid(True, which=\"both\", ls=\"--\", c='gray')\n",
    "\n",
    "    lgnd = ax.legend(fancybox=True, frameon=True, labelspacing=0, borderpad=1, loc='lower right', ncol=3,)\n",
    "\n",
    "    # replace labels\n",
    "    new_labels = ['Rnd', 'Exh', 'BFS', 'Pri_0.001', 'Pri_0.5', 'Pri_0.999', 'Hyb_0.001', 'Hyb_0.5', 'Hyb_0.999']\n",
    "    for t, l in zip(lgnd.texts, new_labels): t.set_text(l)\n",
    "\n",
    "    ax.set(xlabel=\"Budget\", ylabel=\"Explained Recommendations (%)\")\n",
    "    ax.set_title(f'Target position {p}')\n",
    "\n",
    "    fig.tight_layout()\n",
    "    plt.savefig(os.path.join(plots_folder, f\"{strs_prefix}users_percent_to_thres_pos_{p}.pdf\"), dpi=300)"
   ]
  },
  {
   "cell_type": "code",
   "execution_count": null,
   "id": "cellular-mixture",
   "metadata": {},
   "outputs": [],
   "source": [
    "rows, cols = len(df.groupby('pos').groups.keys()), 1\n",
    "\n",
    "for i, p in enumerate(df.groupby('pos').groups.keys()):\n",
    "    a4_dims = (11.7, 8.27)\n",
    "    fig, ax = plt.subplots(figsize=a4_dims)\n",
    "\n",
    "    g = sns.lineplot(\n",
    "        ax=ax, data=ddf3[(ddf3['pos']==p)],\n",
    "        x=\"cardinality\", y=\"avg_budget\", hue=\"method\", style='method',\n",
    "        palette=custom_palette, markers=custom_markers, markersize=12, dashes=custom_dashes, lw=2\n",
    "    )\n",
    "    g.set(yscale='log')\n",
    "    locmin = mticker.LogLocator(base=10, subs=[10, 20, 50, 100, 200, 500, 700], numticks=12)\n",
    "    ax.yaxis.set_minor_locator(locmin)\n",
    "    ax.yaxis.set_major_formatter(mticker.FormatStrFormatter('%.0f'))\n",
    "    ax.yaxis.set_minor_formatter(mticker.FormatStrFormatter('%.0f'))\n",
    "#     ax.yaxis.set_minor_formatter(mticker.NullFormatter())\n",
    "\n",
    "    ax.set_xticks(np.arange(1, 6, 1))\n",
    "\n",
    "#     plt.grid(True, which=\"both\", ls=\"--\", c='gray')\n",
    "\n",
    "    lgnd = ax.legend(fancybox=True, frameon=True, labelspacing=0, borderpad=1, loc='center left', bbox_to_anchor=(0, 0.65), ncol=3,)\n",
    "    # replace labels\n",
    "    new_labels = ['Rnd', 'Exh', 'BFS', 'Pri_0.001', 'Pri_0.5', 'Pri_0.999', 'Hyb_0.001', 'Hyb_0.5', 'Hyb_0.999']\n",
    "    for t, l in zip(lgnd.texts, new_labels): t.set_text(l)\n",
    "\n",
    "    ax.set(xlabel=\"Acceptable Explanation Length\", ylabel=\"Avg. Budget Spent\")\n",
    "    ax.set_title(f'Target Position {p}')\n",
    "\n",
    "    fig.tight_layout()\n",
    "    plt.savefig(os.path.join(plots_folder, f\"{strs_prefix}avg_budget_to_card_pos_{p}.pdf\"), dpi=300)"
   ]
  },
  {
   "cell_type": "code",
   "execution_count": null,
   "id": "amateur-priest",
   "metadata": {},
   "outputs": [],
   "source": [
    "rows, cols = len(df.groupby('pos').groups.keys()), 1\n",
    "\n",
    "for i, p in enumerate(df.groupby('pos').groups.keys()):\n",
    "    a4_dims = (11.7, 8.27)\n",
    "    fig, ax = plt.subplots(figsize=a4_dims)\n",
    "\n",
    "    g = sns.lineplot(ax=ax,\n",
    "        data=ddf3[(ddf3['pos']==p) ],\n",
    "        x=\"cardinality\", y=\"%users\", hue=\"method\", style='method',\n",
    "        palette=custom_palette, markers=custom_markers, markersize=12, dashes=custom_dashes, lw=2\n",
    "    )\n",
    "\n",
    "#     g.set(yscale='log')\n",
    "#     locmin = mticker.LogLocator(base=10, subs=np.arange(0, 1, 0.1), numticks=12)\n",
    "#     ax.yaxis.set_minor_locator(locmin)\n",
    "#     ax.yaxis.set_minor_formatter(mticker.NullFormatter())\n",
    "#     ax.yaxis.set_minor_formatter(mticker.NullFormatter())\n",
    "\n",
    "    ax.set_xticks(np.arange(1, 6, 1))\n",
    "\n",
    "#     plt.grid(True, which=\"both\", ls=\"--\", c='gray')\n",
    "\n",
    "    lgnd = ax.legend(fancybox=True, frameon=True, labelspacing=0, borderpad=1, loc='lower right', ncol=3,)\n",
    "    # replace labels\n",
    "    new_labels = ['Rnd', 'Exh', 'BFS', 'Pri_0.001', 'Pri_0.5', 'Pri_0.999', 'Hyb_0.001', 'Hyb_0.5', 'Hyb_0.999']\n",
    "    for t, l in zip(lgnd.texts, new_labels): t.set_text(l)\n",
    "\n",
    "    ax.set(xlabel=\"Acceptable Explanation Length\", ylabel=\"Explained Recommendations (%)\")\n",
    "    ax.set_title(f'Target position {p}')\n",
    "\n",
    "    fig.tight_layout()\n",
    "    plt.savefig(os.path.join(plots_folder, f\"{strs_prefix}users_percent_to_card_pos_{p}.pdf\"), dpi=300)"
   ]
  },
  {
   "cell_type": "code",
   "execution_count": null,
   "id": "recent-fifty",
   "metadata": {},
   "outputs": [],
   "source": []
  }
 ],
 "metadata": {
  "kernelspec": {
   "display_name": "Python 3",
   "language": "python",
   "name": "python3"
  },
  "language_info": {
   "codemirror_mode": {
    "name": "ipython",
    "version": 3
   },
   "file_extension": ".py",
   "mimetype": "text/x-python",
   "name": "python",
   "nbconvert_exporter": "python",
   "pygments_lexer": "ipython3",
   "version": "3.8.0"
  },
  "toc-autonumbering": true,
  "toc-showcode": false,
  "toc-showmarkdowntxt": false,
  "toc-showtags": false
 },
 "nbformat": 4,
 "nbformat_minor": 5
}
